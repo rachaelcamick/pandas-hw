{
 "cells": [
  {
   "cell_type": "code",
   "execution_count": 1,
   "metadata": {},
   "outputs": [],
   "source": [
    "import pandas as pd\n",
    "import numpy as np"
   ]
  },
  {
   "cell_type": "code",
   "execution_count": 2,
   "metadata": {},
   "outputs": [],
   "source": [
    "# establish file locations\n",
    "schools = \"Schools_Complete.csv\"\n",
    "students = \"Students_Complete.csv\""
   ]
  },
  {
   "cell_type": "code",
   "execution_count": 3,
   "metadata": {},
   "outputs": [],
   "source": [
    "# read in csv\n",
    "schools_df = pd.read_csv(schools)\n",
    "students_df = pd.read_csv(students)"
   ]
  },
  {
   "cell_type": "code",
   "execution_count": 20,
   "metadata": {},
   "outputs": [],
   "source": [
    "# calculate values needed for summary table\n",
    "\n",
    "# total schools\n",
    "school_count = len(schools_df[\"school_name\"])\n",
    "\n",
    "# total students \n",
    "student_count = len(students_df[\"student_name\"])\n",
    "\n",
    "# total budget\n",
    "total_budget = schools_df[\"budget\"].sum()\n",
    "\n",
    "# average math score \n",
    "avg_math = students_df[\"math_score\"].mean()\n",
    "\n",
    "# average reading score\n",
    "avg_reading = students_df[\"reading_score\"].mean()\n",
    "\n",
    "# percentage of students who pass reading / math\n",
    "pass_reading = len(students_df[students_df[\"reading_score\"]>=70])/student_count*100\n",
    "pass_math = len(students_df[students_df[\"math_score\"]>=70])/student_count*100\n",
    "\n",
    "#overall passing rate\n",
    "overall_pass = (avg_math + avg_reading)/2"
   ]
  },
  {
   "cell_type": "code",
   "execution_count": 21,
   "metadata": {},
   "outputs": [
    {
     "data": {
      "text/html": [
       "<div>\n",
       "<style scoped>\n",
       "    .dataframe tbody tr th:only-of-type {\n",
       "        vertical-align: middle;\n",
       "    }\n",
       "\n",
       "    .dataframe tbody tr th {\n",
       "        vertical-align: top;\n",
       "    }\n",
       "\n",
       "    .dataframe thead th {\n",
       "        text-align: right;\n",
       "    }\n",
       "</style>\n",
       "<table border=\"1\" class=\"dataframe\">\n",
       "  <thead>\n",
       "    <tr style=\"text-align: right;\">\n",
       "      <th></th>\n",
       "      <th>Total Schools</th>\n",
       "      <th>Total Students</th>\n",
       "      <th>Total Budget</th>\n",
       "      <th>Average Math Score</th>\n",
       "      <th>Average Reading Score</th>\n",
       "      <th>% Passing Reading</th>\n",
       "      <th>% Passing Math</th>\n",
       "      <th>% Overall Passing Rate</th>\n",
       "    </tr>\n",
       "  </thead>\n",
       "  <tbody>\n",
       "    <tr>\n",
       "      <th>0</th>\n",
       "      <td>15</td>\n",
       "      <td>39170</td>\n",
       "      <td>24649428</td>\n",
       "      <td>78.985371</td>\n",
       "      <td>81.87784</td>\n",
       "      <td>85.805463</td>\n",
       "      <td>74.980853</td>\n",
       "      <td>80.431606</td>\n",
       "    </tr>\n",
       "  </tbody>\n",
       "</table>\n",
       "</div>"
      ],
      "text/plain": [
       "   Total Schools  Total Students  Total Budget  Average Math Score  \\\n",
       "0             15           39170      24649428           78.985371   \n",
       "\n",
       "   Average Reading Score  % Passing Reading  % Passing Math  \\\n",
       "0               81.87784          85.805463       74.980853   \n",
       "\n",
       "   % Overall Passing Rate  \n",
       "0               80.431606  "
      ]
     },
     "execution_count": 21,
     "metadata": {},
     "output_type": "execute_result"
    }
   ],
   "source": [
    "# print summary table\n",
    "\n",
    "summary_table = pd.DataFrame({\"Total Schools\": [school_count], \"Total Students\": [student_count], \\\n",
    "                              \"Total Budget\": [total_budget], \"Average Math Score\": [avg_math], \\\n",
    "                              \"Average Reading Score\": [avg_reading], \"% Passing Reading\": [pass_reading], \\\n",
    "                              \"% Passing Math\": [pass_math], \"% Overall Passing Rate\": [overall_pass]})\n",
    "\n",
    "summary_table"
   ]
  },
  {
   "cell_type": "code",
   "execution_count": null,
   "metadata": {},
   "outputs": [],
   "source": []
  }
 ],
 "metadata": {
  "kernelspec": {
   "display_name": "Python 3",
   "language": "python",
   "name": "python3"
  },
  "language_info": {
   "codemirror_mode": {
    "name": "ipython",
    "version": 3
   },
   "file_extension": ".py",
   "mimetype": "text/x-python",
   "name": "python",
   "nbconvert_exporter": "python",
   "pygments_lexer": "ipython3",
   "version": "3.6.6"
  }
 },
 "nbformat": 4,
 "nbformat_minor": 2
}
